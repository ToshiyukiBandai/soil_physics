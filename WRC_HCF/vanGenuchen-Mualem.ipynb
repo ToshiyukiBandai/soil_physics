{
 "cells": [
  {
   "cell_type": "markdown",
   "metadata": {},
   "source": [
    "This notebook shows how to draw water retention curve (WRC) and hydraulic conductivity function (HCF) using van-Genuchen-Mualem model:\n",
    "\n",
    "\\begin{equation}\n",
    "  \\label{eq:VGM_theta}\n",
    "  \\theta(\\psi) = \\theta_r + \\frac{\\theta_s - \\theta_r}{(1+(-\\alpha\\psi)^n)^m},\n",
    "\\end{equation}\n",
    "\n",
    "\\begin{equation}\n",
    "  \\label{eq:VGM_K}\n",
    "  K(\\theta(\\psi)) = K_sS_e^l(1-(1-S_e^{1/m})^m)^2,\n",
    "\\end{equation}\n",
    "\n",
    "where $\\theta_r$, $\\theta_s$, $\\alpha$, $n$, $K_s$, and $l$ are the Mualem-van Genuchen fitting parameters; $m = 1-1/n$; and the effective saturation $S_e$ is defined as\n",
    "\n",
    "\\begin{equation}\n",
    "    \\label{eq:effective_saturation}\n",
    "    S_e = \\frac{\\theta - \\theta_r}{\\theta_s - \\theta_r}.\n",
    "\\end{equation}"
   ]
  },
  {
   "cell_type": "code",
   "execution_count": 25,
   "metadata": {},
   "outputs": [],
   "source": [
    "import numpy as np\n",
    "import matplotlib.pyplot as plt\n",
    "from matplotlib.ticker import AutoMinorLocator"
   ]
  },
  {
   "cell_type": "markdown",
   "metadata": {},
   "source": [
    "The function below is used to set a fixed aspect ratio when drawing a plot in logarithmic scale using matplotlib."
   ]
  },
  {
   "cell_type": "code",
   "execution_count": 2,
   "metadata": {},
   "outputs": [],
   "source": [
    "def fixed_aspect_ratio_row(ratio):\n",
    "    '''\n",
    "    Set a fixed aspect ratio on matplotlib plots \n",
    "    regardless of axis units\n",
    "    '''\n",
    "    xvals,yvals = axs[row].get_xlim(),axs[row].get_ylim()\n",
    "\n",
    "    xrange = xvals[1]-xvals[0]\n",
    "    yrange = yvals[1]-yvals[0]\n",
    "    axs[row].set_aspect(ratio*(xrange/yrange), adjustable='box')"
   ]
  },
  {
   "cell_type": "code",
   "execution_count": 13,
   "metadata": {},
   "outputs": [],
   "source": [
    "def VGM_theta_K(psi, theta_r, theta_s, alpha, n, K_s, l):\n",
    "    \"\"\"\n",
    "    this function calculates volumetric water content and hydraulic conductivity\n",
    "    from matric potential (psi: negative) given VGM (van-Genuchen and Mualem model) parameters\n",
    "    output: (theta, K)\n",
    "    theta: volumetric water content\n",
    "    K: hydraulic conductivity\n",
    "    \"\"\"\n",
    "    m = 1 - 1/n\n",
    "    S_e = (1 + (-alpha*psi)**n)**(-m)\n",
    "    theta =  S_e * (theta_s - theta_r) + theta_r\n",
    "    K = K_s*S_e**l*(1-(1-S_e**(1/m))**m)**2\n",
    "    return theta, K"
   ]
  },
  {
   "cell_type": "code",
   "execution_count": 15,
   "metadata": {},
   "outputs": [],
   "source": [
    "# VGM parameters(van Genuchen, 1980)\n",
    "# theta_r, theta_s, alpha, n, K_s, l (units: cm, day)\n",
    "VGM_parameters = {\"sandy_loam\": [0.065, 0.41, 0.075, 1.89, 106.1, 0.5],\n",
    "                  \"loam\": [0.078, 0.43, 0.036, 1.56, 24.96, 0.5],\n",
    "                  \"silt_loam\": [0.067, 0.45, 0.02, 1.41, 10.8, 0.5]\n",
    "                 }"
   ]
  },
  {
   "cell_type": "markdown",
   "metadata": {},
   "source": [
    "Matric potential data are prepared here. By using np.arange funciton in logarithmic scale, equally spaced matric potential in logarithmic scale can be prepared."
   ]
  },
  {
   "cell_type": "code",
   "execution_count": 11,
   "metadata": {},
   "outputs": [],
   "source": [
    "log10_h = np.arange(0, 6, 0.1)  # logarithm of suction (negative matric potential) in cm\n",
    "psi = -10**log10_h"
   ]
  },
  {
   "cell_type": "code",
   "execution_count": 24,
   "metadata": {},
   "outputs": [],
   "source": [
    "for soil in [\"sandy_loam\", \"loam\", \"silt_loam\"]:\n",
    "    vars()['theta_VGM_'+ soil], vars()['K_VGM_'+ soil] = VGM_theta_K(psi, *VGM_parameters[soil])"
   ]
  },
  {
   "cell_type": "code",
   "execution_count": 45,
   "metadata": {},
   "outputs": [
    {
     "data": {
      "image/png": "[encoded data removed]",
      "text/plain": [
       "<Figure size 360x180 with 2 Axes>"
      ]
     },
     "metadata": {
      "needs_background": "light"
     },
     "output_type": "display_data"
    }
   ],
   "source": [
    "## water retention curve and hydraulic conductivity function for VGM model\n",
    "fig, axs = plt.subplots(1, 2, sharex=False, sharey=False, figsize=(5.0, 5/2), facecolor='none', edgecolor='#000000')\n",
    "\n",
    "plt.rcParams['font.family'] = 'Times New Roman' \n",
    "plt.rcParams['font.size'] = 8 \n",
    "plt.rcParams['axes.linewidth'] = 1\n",
    "\n",
    "plt.subplots_adjust(wspace = 0.6)\n",
    "\n",
    "row = 0\n",
    "\n",
    "# volumetric water content data\n",
    "theta_sandy_loam = vars()['theta_VGM_'+'sandy_loam']\n",
    "theta_loam = vars()['theta_VGM_'+ 'loam']\n",
    "theta_silt_loam = vars()['theta_VGM_'+ 'silt_loam']\n",
    "\n",
    "# hydraulic conductivity data\n",
    "log_K_sandy_loam = np.log10(vars()['K_VGM_'+ 'sandy_loam'])\n",
    "log_K_loam = np.log10(vars()['K_VGM_'+ 'loam'])\n",
    "log_K_silt_loam = np.log10(vars()['K_VGM_'+ 'silt_loam'])\n",
    "\n",
    "# plotting water retention curve\n",
    "axs[0].plot(log10_h, theta_sandy_loam, '-',color='#767575', linewidth=1,label='Sandy Loam')\n",
    "axs[0].plot(log10_h, theta_loam, '--',color='#E85295', linewidth=1,label='Loam')\n",
    "axs[0].plot(log10_h, theta_silt_loam, ':',color='#229DD9', linewidth=1,label='Silt Loam')\n",
    "\n",
    "# x-axis\n",
    "ticks_x = np.arange(-1, 6, 1)\n",
    "ticklabels_x = [r\"-10$^{{{}}}$\".format(tick) for tick in ticks_x]\n",
    "axs[0].set_xticks(ticks_x)\n",
    "axs[0].set_xticklabels(ticklabels_x)\n",
    "\n",
    "minor_ticks = []\n",
    "for i in range(-1, 6):\n",
    "    for j in range(2,10):\n",
    "         minor_ticks.append(i+np.log10(j))\n",
    "\n",
    "                    \n",
    "axs[0].set_xticks(minor_ticks, minor=True)\n",
    "axs[0].tick_params(axis='x', pad=5)\n",
    "\n",
    "# y-axis\n",
    "ticks_y = np.arange(0.0,0.5,0.1)\n",
    "axs[0].set_yticks(ticks_y)\n",
    "\n",
    "axs[0].tick_params(axis='y', pad=5)\n",
    "axs[0].yaxis.set_minor_locator(AutoMinorLocator(5))\n",
    "\n",
    "# tick parameters\n",
    "axs[0].tick_params(axis = 'both', which = 'major', direction = 'in',size=4, width=1, color='#000000', labelsize=8)\n",
    "axs[0].tick_params(axis = 'both', which = 'minor', direction = 'in',size=2,width=0.5, color='#000000', labelsize=8)\n",
    "\n",
    "# limits for x and y axes\n",
    "axs[0].set_xlim(0, 6)\n",
    "axs[0].set_ylim(0.00,0.5)\n",
    "\n",
    "# axes label\n",
    "axs[0].set_xlabel('Matric Potential $\\\\psi$ [cm]', fontsize=8,color='#000000')\n",
    "axs[0].set_ylabel('Volumetric Water Content $\\\\theta$ [-]', fontsize=8,color='#000000')\n",
    "fixed_aspect_ratio_row(1.0)\n",
    "\n",
    "\n",
    "row = 1\n",
    "\n",
    "# plot hydraulic conductivity functions\n",
    "axs[1].plot(log10_h, log_K_sandy_loam, '-',color='#767575', linewidth=1,label='Sandy Loam')\n",
    "axs[1].plot(log10_h, log_K_loam, '--',color='#E85295', linewidth=1,label='Loam')\n",
    "axs[1].plot(log10_h, log_K_silt_loam, ':',color='#229DD9', linewidth=1,label='Silt Loam')\n",
    "\n",
    "# x-axis\n",
    "ticks_x = np.arange(0, 6, 1)\n",
    "ticklabels_x = [r\"-10$^{{{}}}$\".format(tick) for tick in ticks_x]\n",
    "axs[1].set_xticks(ticks_x)\n",
    "axs[1].set_xticklabels(ticklabels_x)\n",
    "\n",
    "minor_ticks = []\n",
    "for i in range(0, 6):\n",
    "    for j in range(2,10):\n",
    "         minor_ticks.append(i+np.log10(j))\n",
    "\n",
    "                    \n",
    "axs[1].set_xticks(minor_ticks, minor=True)\n",
    "axs[1].tick_params(axis='x', pad=5)\n",
    "\n",
    "# y-axis\n",
    "ticks_y = np.arange(-10, 3, 2)\n",
    "ticklabels_y = [r\"10$^{{{}}}$\".format(tick) for tick in ticks_y]\n",
    "minor_ticks = []\n",
    "for i in range(-10, 3):\n",
    "    for j in range(2,10):\n",
    "         minor_ticks.append(i+np.log10(j))\n",
    "            \n",
    "axs[1].set_yticks(ticks_y)\n",
    "axs[1].set_yticks(minor_ticks, minor=True)\n",
    "axs[1].set_yticklabels(ticklabels_y)\n",
    "axs[1].tick_params(axis='y', pad=5)\n",
    "\n",
    "# tick parameters\n",
    "axs[1].tick_params(axis = 'both', which = 'major', direction = 'in',size=4, width=1, color='#000000', labelsize=8)\n",
    "axs[1].tick_params(axis = 'both', which = 'minor', direction = 'in',size=2,width=0.5, color='#000000', labelsize=8)\n",
    "\n",
    "# limits for x and y axes\n",
    "axs[1].set_xlim(0, 6)\n",
    "axs[1].set_ylim(-10, 3)\n",
    "\n",
    "\n",
    "axs[1].set_xlabel('Matric Potential $\\\\psi$ [cm]', fontsize=8,color='#000000')\n",
    "axs[1].set_ylabel('Hydraulic Conductivity $K$ [cm day$^{-1}$]', fontsize=8,color='#000000')\n",
    "fixed_aspect_ratio_row(1.0)\n",
    "\n",
    "axs[1].legend(loc = (0.35,0.65), numpoints=3,fontsize=8, facecolor = 'None', edgecolor = 'None')\n",
    "\n",
    "# plt.savefig('VGM.pdf')\n",
    "# plt.savefig('VGM.eps')\n",
    "# plt.savefig('VGM.png', transparent = True)"
   ]
  }
 ],
 "metadata": {
  "kernelspec": {
   "display_name": "Python 3",
   "language": "python",
   "name": "python3"
  },
  "language_info": {
   "codemirror_mode": {
    "name": "ipython",
    "version": 3
   },
   "file_extension": ".py",
   "mimetype": "text/x-python",
   "name": "python",
   "nbconvert_exporter": "python",
   "pygments_lexer": "ipython3",
   "version": "3.7.3"
  }
 },
 "nbformat": 4,
 "nbformat_minor": 2
}
